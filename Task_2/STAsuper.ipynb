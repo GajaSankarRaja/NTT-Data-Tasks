{
 "cells": [
  {
   "cell_type": "code",
   "execution_count": 1,
   "id": "98f4c431-99a4-4160-b4e3-b1a300740a8a",
   "metadata": {},
   "outputs": [],
   "source": [
    "import pandas as pd\n",
    "import matplotlib.pyplot as plt\n",
    "import seaborn as sns\n",
    "import numpy as np\n",
    "customer=pd.read_csv(\"customer.csv\")\n",
    "sales=pd.read_csv(\"sales.csv\")\n",
    "products=pd.read_csv(\"products.csv\")\n",
    "df2=sales.merge(products, on='product_id', how='left')\n",
    "df=df2.merge(customer, on='customer_id', how='left')"
   ]
  },
  {
   "cell_type": "code",
   "execution_count": 2,
   "id": "dfc1ecb7-52e6-4bc1-9841-f4e4502640d2",
   "metadata": {},
   "outputs": [
    {
     "data": {
      "text/html": [
       "<div>\n",
       "<style scoped>\n",
       "    .dataframe tbody tr th:only-of-type {\n",
       "        vertical-align: middle;\n",
       "    }\n",
       "\n",
       "    .dataframe tbody tr th {\n",
       "        vertical-align: top;\n",
       "    }\n",
       "\n",
       "    .dataframe thead th {\n",
       "        text-align: right;\n",
       "    }\n",
       "</style>\n",
       "<table border=\"1\" class=\"dataframe\">\n",
       "  <thead>\n",
       "    <tr style=\"text-align: right;\">\n",
       "      <th></th>\n",
       "      <th>serial_number</th>\n",
       "      <th>order_id</th>\n",
       "      <th>order_date</th>\n",
       "      <th>delivery_date</th>\n",
       "      <th>time_of_order</th>\n",
       "      <th>time_of_delivery</th>\n",
       "      <th>delivery_mode</th>\n",
       "      <th>sales_agent</th>\n",
       "      <th>payment_mode</th>\n",
       "      <th>delivery_rating</th>\n",
       "      <th>...</th>\n",
       "      <th>customer_age</th>\n",
       "      <th>Customer_type</th>\n",
       "      <th>country</th>\n",
       "      <th>city</th>\n",
       "      <th>state</th>\n",
       "      <th>SMS_Marketing</th>\n",
       "      <th>Email_Marketing</th>\n",
       "      <th>Membership_type</th>\n",
       "      <th>Joining_date</th>\n",
       "      <th>App_Downloaded</th>\n",
       "    </tr>\n",
       "  </thead>\n",
       "  <tbody>\n",
       "    <tr>\n",
       "      <th>1818</th>\n",
       "      <td>5199</td>\n",
       "      <td>D-87521-92013</td>\n",
       "      <td>06-09-2020</td>\n",
       "      <td>12-09-2020</td>\n",
       "      <td>1:49 PM</td>\n",
       "      <td>4:54 PM</td>\n",
       "      <td>Standard Class</td>\n",
       "      <td>Dave Brockman</td>\n",
       "      <td>Debit Card</td>\n",
       "      <td>5</td>\n",
       "      <td>...</td>\n",
       "      <td>38</td>\n",
       "      <td>University team</td>\n",
       "      <td>United States</td>\n",
       "      <td>Norwich</td>\n",
       "      <td>Connecticut</td>\n",
       "      <td>NO</td>\n",
       "      <td>YES</td>\n",
       "      <td>Silver</td>\n",
       "      <td>26-07-2020</td>\n",
       "      <td>YES</td>\n",
       "    </tr>\n",
       "    <tr>\n",
       "      <th>392</th>\n",
       "      <td>397</td>\n",
       "      <td>B-23190-6199</td>\n",
       "      <td>21-06-2019</td>\n",
       "      <td>23-06-2019</td>\n",
       "      <td>9:44 AM</td>\n",
       "      <td>1:09 PM</td>\n",
       "      <td>Second Class</td>\n",
       "      <td>Dave Brockman</td>\n",
       "      <td>Bank Transfer</td>\n",
       "      <td>2</td>\n",
       "      <td>...</td>\n",
       "      <td>64</td>\n",
       "      <td>State Club</td>\n",
       "      <td>United States</td>\n",
       "      <td>Dearborn</td>\n",
       "      <td>Michigan</td>\n",
       "      <td>NO</td>\n",
       "      <td>YES</td>\n",
       "      <td>Silver</td>\n",
       "      <td>12-05-2019</td>\n",
       "      <td>YES</td>\n",
       "    </tr>\n",
       "    <tr>\n",
       "      <th>5103</th>\n",
       "      <td>3607</td>\n",
       "      <td>C-76298-92213</td>\n",
       "      <td>19-09-2022</td>\n",
       "      <td>25-09-2022</td>\n",
       "      <td>1:05 PM</td>\n",
       "      <td>1:21 PM</td>\n",
       "      <td>Standard Class</td>\n",
       "      <td>Dave Brockman</td>\n",
       "      <td>Credit card</td>\n",
       "      <td>3</td>\n",
       "      <td>...</td>\n",
       "      <td>30</td>\n",
       "      <td>State Club</td>\n",
       "      <td>United States</td>\n",
       "      <td>Peoria</td>\n",
       "      <td>Illinois</td>\n",
       "      <td>YES</td>\n",
       "      <td>NO</td>\n",
       "      <td>Basic</td>\n",
       "      <td>15-04-2019</td>\n",
       "      <td>YES</td>\n",
       "    </tr>\n",
       "  </tbody>\n",
       "</table>\n",
       "<p>3 rows × 34 columns</p>\n",
       "</div>"
      ],
      "text/plain": [
       "      serial_number       order_id  order_date delivery_date time_of_order  \\\n",
       "1818           5199  D-87521-92013  06-09-2020    12-09-2020       1:49 PM   \n",
       "392             397   B-23190-6199  21-06-2019    23-06-2019       9:44 AM   \n",
       "5103           3607  C-76298-92213  19-09-2022    25-09-2022       1:05 PM   \n",
       "\n",
       "     time_of_delivery   delivery_mode    sales_agent   payment_mode  \\\n",
       "1818          4:54 PM  Standard Class  Dave Brockman     Debit Card   \n",
       "392           1:09 PM    Second Class  Dave Brockman  Bank Transfer   \n",
       "5103          1:21 PM  Standard Class  Dave Brockman    Credit card   \n",
       "\n",
       "      delivery_rating  ... customer_age    Customer_type        country  \\\n",
       "1818                5  ...           38  University team  United States   \n",
       "392                 2  ...           64       State Club  United States   \n",
       "5103                3  ...           30       State Club  United States   \n",
       "\n",
       "          city        state  SMS_Marketing Email_Marketing Membership_type  \\\n",
       "1818   Norwich  Connecticut             NO             YES          Silver   \n",
       "392   Dearborn     Michigan             NO             YES          Silver   \n",
       "5103    Peoria     Illinois            YES              NO           Basic   \n",
       "\n",
       "     Joining_date App_Downloaded  \n",
       "1818   26-07-2020            YES  \n",
       "392    12-05-2019            YES  \n",
       "5103   15-04-2019            YES  \n",
       "\n",
       "[3 rows x 34 columns]"
      ]
     },
     "execution_count": 2,
     "metadata": {},
     "output_type": "execute_result"
    }
   ],
   "source": [
    "df.sample(3)"
   ]
  },
  {
   "cell_type": "code",
   "execution_count": 8,
   "id": "2a3915a3-54e5-4278-8baa-58e327ea657f",
   "metadata": {},
   "outputs": [
    {
     "data": {
      "text/html": [
       "<div>\n",
       "<style scoped>\n",
       "    .dataframe tbody tr th:only-of-type {\n",
       "        vertical-align: middle;\n",
       "    }\n",
       "\n",
       "    .dataframe tbody tr th {\n",
       "        vertical-align: top;\n",
       "    }\n",
       "\n",
       "    .dataframe thead th {\n",
       "        text-align: right;\n",
       "    }\n",
       "</style>\n",
       "<table border=\"1\" class=\"dataframe\">\n",
       "  <thead>\n",
       "    <tr style=\"text-align: right;\">\n",
       "      <th></th>\n",
       "      <th>category</th>\n",
       "      <th>sales</th>\n",
       "    </tr>\n",
       "  </thead>\n",
       "  <tbody>\n",
       "    <tr>\n",
       "      <th>506</th>\n",
       "      <td>Shoes</td>\n",
       "      <td>62.92</td>\n",
       "    </tr>\n",
       "  </tbody>\n",
       "</table>\n",
       "</div>"
      ],
      "text/plain": [
       "    category  sales\n",
       "506    Shoes  62.92"
      ]
     },
     "execution_count": 8,
     "metadata": {},
     "output_type": "execute_result"
    }
   ],
   "source": [
    "#Pie Chart:\n",
    "pie_columns=df.loc[:,['category','sales']]\n",
    "pie_columns.sample(1)"
   ]
  },
  {
   "cell_type": "code",
   "execution_count": 27,
   "id": "694d1537-8a92-4aa0-ba5b-c585c6676453",
   "metadata": {},
   "outputs": [
    {
     "data": {
      "text/html": [
       "<div>\n",
       "<style scoped>\n",
       "    .dataframe tbody tr th:only-of-type {\n",
       "        vertical-align: middle;\n",
       "    }\n",
       "\n",
       "    .dataframe tbody tr th {\n",
       "        vertical-align: top;\n",
       "    }\n",
       "\n",
       "    .dataframe thead th {\n",
       "        text-align: right;\n",
       "    }\n",
       "</style>\n",
       "<table border=\"1\" class=\"dataframe\">\n",
       "  <thead>\n",
       "    <tr style=\"text-align: right;\">\n",
       "      <th></th>\n",
       "      <th>category</th>\n",
       "      <th>sales</th>\n",
       "    </tr>\n",
       "  </thead>\n",
       "  <tbody>\n",
       "    <tr>\n",
       "      <th>0</th>\n",
       "      <td>Accessories</td>\n",
       "      <td>160126.2459</td>\n",
       "    </tr>\n",
       "    <tr>\n",
       "      <th>1</th>\n",
       "      <td>Clothing</td>\n",
       "      <td>426379.4489</td>\n",
       "    </tr>\n",
       "    <tr>\n",
       "      <th>2</th>\n",
       "      <td>Shoes</td>\n",
       "      <td>530436.9265</td>\n",
       "    </tr>\n",
       "  </tbody>\n",
       "</table>\n",
       "</div>"
      ],
      "text/plain": [
       "      category        sales\n",
       "0  Accessories  160126.2459\n",
       "1     Clothing  426379.4489\n",
       "2        Shoes  530436.9265"
      ]
     },
     "execution_count": 27,
     "metadata": {},
     "output_type": "execute_result"
    }
   ],
   "source": [
    "result=pie_columns.groupby(by='category').agg('sum').reset_index()\n",
    "result"
   ]
  },
  {
   "cell_type": "code",
   "execution_count": 28,
   "id": "a66cb689-3b6f-4a33-9717-56697895b57c",
   "metadata": {},
   "outputs": [
    {
     "data": {
      "image/png": "[encoded data removed]",
      "text/plain": [
       "<Figure size 640x480 with 1 Axes>"
      ]
     },
     "metadata": {},
     "output_type": "display_data"
    }
   ],
   "source": [
    "plt.pie(result['sales'],labels=result['category'],autopct='%0.2d%%',normalize=True)\n",
    "plt.title('Sales by Category')\n",
    "plt.show()"
   ]
  },
  {
   "cell_type": "code",
   "execution_count": null,
   "id": "776e5bd1-b864-4a5b-b8ae-8c4650b34ab5",
   "metadata": {},
   "outputs": [],
   "source": []
  }
 ],
 "metadata": {
  "kernelspec": {
   "display_name": "Python 3 (ipykernel)",
   "language": "python",
   "name": "python3"
  },
  "language_info": {
   "codemirror_mode": {
    "name": "ipython",
    "version": 3
   },
   "file_extension": ".py",
   "mimetype": "text/x-python",
   "name": "python",
   "nbconvert_exporter": "python",
   "pygments_lexer": "ipython3",
   "version": "3.12.7"
  }
 },
 "nbformat": 4,
 "nbformat_minor": 5
}
