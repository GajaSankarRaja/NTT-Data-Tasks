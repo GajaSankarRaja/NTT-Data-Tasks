import pandas as pd
import matplotlib.pyplot as plt
import seaborn as sns
import numpy as np
customer=pd.read_csv("customer.csv")
sales=pd.read_csv("sales.csv")
products=pd.read_csv("products.csv")
df2=sales.merge(products, on='product_id', how='left')
df=df2.merge(customer, on='customer_id', how='left')


df.sample(3)


#Pie Chart:
pie_columns=df.loc[:,['category','sales']]
pie_columns


plt.pie(pie_columns)



