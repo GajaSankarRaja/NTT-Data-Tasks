import pandas as pd
import matplotlib.pyplot as plt
import seaborn as sns
import numpy as np
customer=pd.read_csv("customer.csv")
sales=pd.read_csv("sales.csv")
products=pd.read_csv("products.csv")
df2=sales.merge(products, on='product_id', how='left')
df=df2.merge(customer, on='customer_id', how='left')


df.shape


df.columns


df.customer_id.value_counts(sort=True,
                            #normalize=True
                           )


group_df=df.groupby(['customer_id','customer_name']).sum().reset_index()
group_df.sort_values('quantity',ascending=False,inplace=True)
group_df


loyal_cust=group_df.loc[:,['customer_name','quantity']].iloc[:11,:]
loyal_cust


plt.bar(x=loyal_cust.customer_name,height=loyal_cust.quantity)
plt.xlabel('Customers Name')
plt.ylabel('Quantity Purchased')
plt.title('Top 10 Customers')
plt.show()






