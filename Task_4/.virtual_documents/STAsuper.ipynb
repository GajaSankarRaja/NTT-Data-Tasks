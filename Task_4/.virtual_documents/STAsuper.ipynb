


import pandas as pd
import matplotlib.pyplot as plt
import seaborn as sns
import numpy as np
customer=pd.read_csv("customer.csv")
sales=pd.read_csv("sales.csv")
products=pd.read_csv("products.csv")
df2=sales.merge(products, on='product_id', how='left')
df=df2.merge(customer, on='customer_id', how='left')


df.head()


temp_df=df[['payment_mode','quantity']]
temp_df


dn_df=temp_df.groupby('payment_mode').agg({'quantity':'sum'}).reset_index()
dn_df


fig, ax = plt.subplots()
labels = dn_df['payment_mode']
sizes = dn_df['quantity']
ax.pie(sizes, labels=labels, autopct='%1.1f%%', startangle=90, counterclock=False, wedgeprops={'width': 0.7})










