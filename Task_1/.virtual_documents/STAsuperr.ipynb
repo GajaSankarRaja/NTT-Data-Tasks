import pandas as pd
import matplotlib.pyplot as plt
import seaborn as sns
import numpy as np
customer=pd.read_csv("customer.csv")
sales=pd.read_csv("sales.csv")
products=pd.read_csv("products.csv")
df2=sales.merge(products, on='product_id', how='left')
df=df2.merge(customer, on='customer_id', how='left')


df.head()


bar=df[['state','sales']]
bar.sample(5)


bar_df=bar.groupby('state').agg('sum').reset_index()
bar_df.head()


bar_df.sort_values('sales',inplace=True)
bar_df.head()


plt.figure(figsize=(9,9))
plt.barh(bar_df['state'], bar_df['sales'])
plt.title('State VS Sales')
plt.xlabel('Sales')
plt.ylabel('State')
plt.show()






